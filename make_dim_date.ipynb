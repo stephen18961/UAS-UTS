{
 "cells": [
  {
   "cell_type": "code",
   "execution_count": 1,
   "metadata": {},
   "outputs": [
    {
     "name": "stdout",
     "output_type": "stream",
     "text": [
      "Query SQL berhasil dibuat dan disimpan ke 'insert_dim_date.sql'.\n"
     ]
    }
   ],
   "source": [
    "import pandas as pd\n",
    "\n",
    "# Baca file CSV\n",
    "csv_file = \"dim_date.csv\"  # Ganti dengan path file Anda\n",
    "df = pd.read_csv(csv_file)\n",
    "\n",
    "# Format query SQL\n",
    "sql_queries = []\n",
    "for _, row in df.iterrows():\n",
    "    query = f\"\"\"\n",
    "    INSERT INTO dim_date (\n",
    "        PERIOD_KEY, PERIOD_DESC, DAY_NUMBER, DAY, WEEK_DESC, WEEK_TYPE,\n",
    "        MONTH_DESC, MONYY_DESC, QUARTER_DESC, YEAR, FESTIVE, PREV_YEAR, PREVYEAR_DAY, MONTH_DAY, PREV_YEAR_KEY\n",
    "    ) VALUES (\n",
    "        {row['PERIOD_KEY']}, '{row['PERIOD_DESC']}', {row['DAY_NUMBER']}, '{row['DAY']}', '{row['WEEK_DESC']}', '{row['WEEK_TYPE']}',\n",
    "        '{row['MONTH_DESC']}', '{row['MONYY_DESC']}', '{row['QUARTER_DESC']}', {row['YEAR']}, '{row['FESTIVE']}',\n",
    "        '{row['PREV_YEAR']}', '{row['PREVYEAR_DAY']}', {row['MONTH_DAY']}, {row['PREV_YEAR_KEY']}\n",
    "    );\n",
    "    \"\"\"\n",
    "    sql_queries.append(query)\n",
    "\n",
    "# Tulis ke file SQL\n",
    "with open(\"insert_dim_date.sql\", \"w\") as file:\n",
    "    file.writelines(sql_queries)\n",
    "\n",
    "print(\"Query SQL berhasil dibuat dan disimpan ke 'insert_dim_date.sql'.\")\n"
   ]
  }
 ],
 "metadata": {
  "kernelspec": {
   "display_name": "Python 3",
   "language": "python",
   "name": "python3"
  },
  "language_info": {
   "codemirror_mode": {
    "name": "ipython",
    "version": 3
   },
   "file_extension": ".py",
   "mimetype": "text/x-python",
   "name": "python",
   "nbconvert_exporter": "python",
   "pygments_lexer": "ipython3",
   "version": "3.11.6"
  }
 },
 "nbformat": 4,
 "nbformat_minor": 2
}
